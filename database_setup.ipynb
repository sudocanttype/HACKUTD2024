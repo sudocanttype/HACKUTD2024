{
 "cells": [
  {
   "cell_type": "code",
   "execution_count": 42,
   "id": "3fa6de01-9e2f-4600-adce-49d9c0222744",
   "metadata": {},
   "outputs": [],
   "source": [
    "from peewee import Model, CharField, DateField, SqliteDatabase, TextField, ForeignKeyField, DecimalField, DateTimeField\n",
    "import random\n",
    "from datetime import datetime, timedelta"
   ]
  },
  {
   "cell_type": "code",
   "execution_count": 5,
   "id": "724b4a88-3a7c-475c-80ed-d723c3fb2437",
   "metadata": {},
   "outputs": [],
   "source": [
    "db = SqliteDatabase('database.db')\n"
   ]
  },
  {
   "cell_type": "code",
   "execution_count": 8,
   "id": "83075cf1-ae66-49eb-809f-5d3a5469d529",
   "metadata": {},
   "outputs": [],
   "source": [
    "class User(Model):\n",
    "    name = CharField()\n",
    "    ssn = CharField(unique=True)  # Assuming SSN is unique for each user\n",
    "    bday = DateField()\n",
    "    address = TextField()\n",
    "    email = CharField(unique=True)\n",
    "    phone = CharField()\n",
    "\n",
    "    class Meta:\n",
    "        database = db  # Define which database this model will use\n"
   ]
  },
  {
   "cell_type": "code",
   "execution_count": 15,
   "id": "f0a22891-7566-482d-a963-793b3876d357",
   "metadata": {},
   "outputs": [],
   "source": [
    "class Transaction(Model):\n",
    "    userkey = ForeignKeyField(User, backref='transactions')  # Foreign key to the User table\n",
    "    amount = DecimalField(decimal_places=2)  # Store monetary amounts with two decimal places\n",
    "    transaction_id = CharField(unique=True)  # Unique transaction ID\n",
    "    date = DateTimeField()  # Store the date and time of the transaction\n",
    "    merchant_location = TextField()  # Merchant or location\n",
    "    status = TextField()  # Status of the transaction\n",
    "    type = TextField()  # Type of the transaction (e.g., debit, credit)\n",
    "\n",
    "    class Meta:\n",
    "        database = db\n"
   ]
  },
  {
   "cell_type": "code",
   "execution_count": 16,
   "id": "8a4b0667-050f-4dfc-93ab-1e3842314c26",
   "metadata": {},
   "outputs": [],
   "source": [
    "class Check(Model):\n",
    "    userkey = ForeignKeyField(User, backref='checks')  # Foreign key to User table\n",
    "    file_b64 = TextField()  # The file in base64 string format\n",
    "    status_code = CharField()  # Status code for the check (e.g., \"approved\", \"pending\")\n",
    "    date_verified = DateTimeField()  # The date when the check was verified\n",
    "    employee_id = CharField()  # The ID of the employee who verified the check\n",
    "    transaction_id = ForeignKeyField(Transaction, backref='checks')  # Affiliated transaction ID\n",
    "\n",
    "    class Meta:\n",
    "        database = db\n"
   ]
  },
  {
   "cell_type": "code",
   "execution_count": 17,
   "id": "e3873d78-69d1-4e83-a276-9b0f0bfbcbc0",
   "metadata": {},
   "outputs": [
    {
     "data": {
      "text/plain": [
       "True"
      ]
     },
     "execution_count": 17,
     "metadata": {},
     "output_type": "execute_result"
    }
   ],
   "source": [
    "db.connect()\n"
   ]
  },
  {
   "cell_type": "code",
   "execution_count": 28,
   "id": "c1c32190-5334-45ed-aedd-1ebaaaa509d2",
   "metadata": {},
   "outputs": [],
   "source": [
    "def print_users():\n",
    "    trans = Transaction.select()\n",
    "    \n",
    "    # Print all users' details\n",
    "    for t in trans:\n",
    "        print(f\"Name: {user.name}\")\n",
    "        print(f\"SSN: {user.ssn}\")\n",
    "        print(f\"Birthday: {user.bday}\")\n",
    "        print(f\"Address: {user.address}\")\n",
    "        print(f\"Email: {user.email}\")\n",
    "        print(f\"Phone: {user.phone}\")\n",
    "        print(\"-\" * 40)\n"
   ]
  },
  {
   "cell_type": "code",
   "execution_count": 60,
   "id": "1468e904-a291-4062-9e33-bce087a33504",
   "metadata": {},
   "outputs": [],
   "source": [
    "def print_transactions():\n",
    "    # Query all transactions from the Transaction table\n",
    "    transactions = Transaction.select()\n",
    "\n",
    "    # Loop through each transaction and print the details\n",
    "    for transaction in transactions:\n",
    "        print(f\"Transaction ID: {transaction.id}\")\n",
    "        print(f\"User ID: {transaction.userkey}\")\n",
    "        print(f\"Amount: ${transaction.amount:.2f}\")\n",
    "        print(f\"Date: {transaction.date}\")\n",
    "        print(f\"Merchant/Location: {transaction.merchant_location}\")\n",
    "        print(f\"Status: {transaction.status}\")\n",
    "        print(f\"Type: {transaction.type}\")\n",
    "        print(\"-\" * 40)  # Separator line\n",
    "\n"
   ]
  },
  {
   "cell_type": "code",
   "execution_count": 39,
   "id": "760ab25c-e01a-4685-aa6d-d1ea9c08f4ad",
   "metadata": {},
   "outputs": [],
   "source": [
    "def generate_transaction_id():\n",
    "    return f\"TX-{random.randint(100000, 999999)}\"\n",
    "\n",
    "# Function to generate random amounts (within a reasonable range)\n",
    "def generate_amount():\n",
    "    return round(random.uniform(10.0, 10000.0), 2)  # Random amounts between $10.00 and $5000.00\n",
    "def generate_status():\n",
    "    statuses = [\"Completed\", \"Pending\", \"Failed\"]\n",
    "    return random.choice(statuses)\n",
    "\n",
    "# Function to generate a random transaction type\n",
    "def generate_type():\n",
    "    types = [\"Purchase\", \"Refund\", \"Transfer\", \"Payment\"]\n",
    "    return random.choice(types)\n",
    "\n"
   ]
  },
  {
   "cell_type": "code",
   "execution_count": 40,
   "id": "7567b08f-3f87-4003-9e5b-6055e45e4bc6",
   "metadata": {},
   "outputs": [],
   "source": [
    "# Function to generate random merchant locations\n",
    "def generate_merchant_location():\n",
    "    locations = ['Walmart, New York, NY', 'Apple Store, San Francisco, CA', 'Amazon.com, Online', 'Best Buy, Los Angeles, CA', 'Starbucks, Chicago, IL', \"McDonald's, Miami, FL\", 'Tesla Supercharger Station, Austin, TX', 'Target, Boston, MA', 'Nike Store, Portland, OR', 'CVS, Seattle, WA', 'Whole Foods Market, Brooklyn, NY', 'H&M, Paris, France', 'Uber Eats, Online', 'Sephora, Los Angeles, CA', 'Barnes & Noble, New York, NY', 'Airbnb, Online', 'Zara, London, UK', 'Nike Factory Store, Las Vegas, NV', 'Spotify Premium Subscription, Online', \"Trader Joe's, San Diego, CA\", \"Bloomingdale's, Chicago, IL\", 'Home Depot, Dallas, TX', 'Lush Cosmetics, Toronto, Canada', 'Etsy, Online', 'The Home Depot, Atlanta, GA', 'Apple iTunes, Online', 'Uber, San Francisco, CA', 'Café du Monde, New Orleans, LA', 'Blue Apron, Online', 'L.L. Bean, Freeport, ME', 'Airline Ticket, Delta Airlines, JFK Airport, NY', 'Walmart, Miami, FL', 'Superdry, Tokyo, Japan', 'Puma Store, Berlin, Germany', 'Google Play Store, Online', 'Saks Fifth Avenue, New York, NY', 'Panera Bread, Boston, MA', 'Costco, Salt Lake City, UT', 'Whole Foods Market, Austin, TX', 'Petco, Los Angeles, CA', 'Neiman Marcus, Dallas, TX', 'REI, Seattle, WA', 'Etsy, Online', 'Barnes & Noble, Boston, MA', \"Lowe's, Charlotte, NC\", \"Macy's, San Francisco, CA\", 'Kroger, Atlanta, GA', 'Forever 21, Miami, FL', 'Nordstrom, Chicago, IL', 'Best Buy, Denver, CO', 'The Cheesecake Factory, Los Angeles, CA', 'JetBlue Airways, Online', 'Best Buy, Orlando, FL', 'Sunglass Hut, Las Vegas, NV', 'Walmart, Los Angeles, CA', 'Samsung Store, San Francisco, CA', 'Nike, Austin, TX', 'Walgreens, San Diego, CA', 'T-Mobile, New York, NY', 'Spotify, Online', 'Instacart, Online', 'Uber Eats, Los Angeles, CA', 'Target, Los Angeles, CA', 'Etsy, Online', \"Macy's, Las Vegas, NV\", 'Chewy, Online', 'Zalando, Online', 'Apple, Online', 'Sony Store, Tokyo, Japan', 'Airbnb, Los Angeles, CA', 'HBO Max Subscription, Online', 'Netflix Subscription, Online', 'Cinemark, Chicago, IL', 'Reebok, Boston, MA', 'Microsoft Store, Seattle, WA', 'Bose Store, New York, NY', 'DHL Shipping, Online', 'The Container Store, Dallas, TX', 'Kendra Scott, Austin, TX', 'PetSmart, Phoenix, AZ', 'Foot Locker, New York, NY', 'Etsy, New York, NY', \"Trader Joe's, Portland, OR\", 'Wayfair, Online', 'Sephora, New York, NY', 'Louis Vuitton, Paris, France', 'Tommy Hilfiger, Milan, Italy', 'H&M, Stockholm, Sweden', 'Tiffany & Co., New York, NY', 'Moo.com, Online', 'Warby Parker, New York, NY', 'REI, Portland, OR', \"Burt's Bees, Online\", 'Starbucks Reserve, Chicago, IL', 'American Eagle, San Francisco, CA', 'Sony PlayStation Store, Online', 'Patagonia, Denver, CO', 'Apple App Store, Online', 'Nordstrom Rack, Dallas, TX', 'Target, Chicago, IL', 'Hulu Subscription, Online', 'Nike Running, Online', 'Peapod, Online', \"Domino's Pizza, Los Angeles, CA\", 'Chipotle, Miami, FL', 'Taco Bell, Houston, TX', 'Olive Garden, San Diego, CA', 'Subway, New York, NY', 'IKEA, Seattle, WA', 'Walmart, Houston, TX', \"Macy's, Miami, FL\", 'Panasonic Store, Tokyo, Japan', 'Lush Cosmetics, New York, NY', 'ASOS, Online', 'Nike, London, UK', 'Lululemon, Los Angeles, CA', 'Lindt Chocolate, Zurich, Switzerland', 'Adidas, Berlin, Germany', 'Pizza Hut, Dallas, TX', 'Ralph Lauren, Beverly Hills, CA', 'Harrods, London, UK', 'Adidas, New York, NY', 'Tory Burch, New York, NY', 'Ikea, Richmond, VA', 'John Lewis, London, UK', 'HomeGoods, Boston, MA', 'GAP, San Francisco, CA', 'Saks Fifth Avenue, Miami, FL', 'Motel 6, Phoenix, AZ', 'The Ritz-Carlton, New York, NY', 'Hilton Hotels, San Francisco, CA', 'Barnes & Noble, San Francisco, CA', 'MoMA Store, New York, NY', 'Mongolian Grill, Denver, CO', \"Wendy's, Salt Lake City, UT\", \"Land's End, Dodgeville, WI\", 'Fossil, Dallas, TX', 'Canon Store, Tokyo, Japan', 'Chick-fil-A, Los Angeles, CA', 'Swarovski, Vienna, Austria', 'Zappos, Online', \"Kiehl's, New York, NY\", 'Fandango, Online', 'Polo Ralph Lauren, Chicago, IL', 'Uniqlo, New York, NY', 'Petco, New York, NY', 'Anheuser-Busch, St. Louis, MO', 'Cadillac, Detroit, MI', 'BMW, Munich, Germany', 'Fender Guitars, Hollywood, CA', 'Guitar Center, Los Angeles, CA', 'The North Face, Salt Lake City, UT', 'Tiffany & Co., Las Vegas, NV', 'HBO Max, Online', 'Giant Food, Washington, D.C.', 'Costco, Phoenix, AZ', 'REI, Denver, CO', 'Home Depot, Las Vegas, NV', 'Pier 1 Imports, Denver, CO', 'Target, Miami, FL', 'T-Mobile, Los Angeles, CA', 'Tesla, Palo Alto, CA', 'Subway, Dallas, TX', 'Kroger, Austin, TX', 'Urban Outfitters, Philadelphia, PA', 'J.Crew, New York, NY', 'Kith, New York, NY', 'Tommy Bahama, Honolulu, HI', 'Brooks Brothers, San Francisco, CA', 'Staples, Boston, MA', 'Shopify, Online', 'Airbnb, San Francisco, CA', 'Zara, Milan, Italy', 'TopShop, London, UK', 'Revolve, Online', 'The Container Store, Austin, TX', 'Nordstrom, Los Angeles, CA', 'Verizon, New York, NY', 'Patagonia, San Francisco, CA', 'Sur La Table, Seattle, WA', 'Red Lobster, Miami, FL', 'Cinemark Theaters, Dallas, TX', 'Michaels, Phoenix, AZ', 'Ace Hardware, Atlanta, GA', 'Amazon Fresh, Seattle, WA', 'Coach, New York, NY', 'Madewell, New York, NY', \"Peet's Coffee, San Francisco, CA\", \"Ben & Jerry's, Burlington, VT\", 'Shake Shack, New York, NY', 'Burlington Coat Factory, Boston, MA', 'Merriam-Webster, Online', 'Bonobos, San Francisco, CA', 'Samsung, Seoul, South Korea', \"David's Bridal, Chicago, IL\", 'Lululemon, Boston, MA', 'Whole Foods Market, Philadelphia, PA', 'Nordstrom Rack, Seattle, WA', 'Zales, Chicago, IL', 'Reebok, New York, NY', 'Prada, Milan, Italy', 'H&M, Vancouver, Canada', 'Peloton, Online', 'Google Store, Mountain View, CA', 'Dell, Round Rock, TX', 'Oculus, Online', 'PetSmart, Dallas, TX', 'Drizly, Online', 'Uber, New York, NY', 'SiriusXM, Online', 'Tesla, Denver, CO', 'TravisMathew, Irvine, CA', \"Hershey's Chocolate, Hershey, PA\", 'T-Mobile, Seattle, WA', 'Dollar Tree, Phoenix, AZ', 'Target, San Diego, CA', 'Whole Foods Market, Portland, OR', \"Sam's Club, Houston, TX\", 'GameStop, Los Angeles, CA', 'Saks Fifth Avenue, Los Angeles, CA', \"Victoria's Secret, Miami, FL\", 'JBL, Los Angeles, CA', 'Best Buy, Seattle, WA', \"Macy's, Chicago, IL\", 'Patagonia, Jackson Hole, WY', 'Wegmans, Buffalo, NY', 'Reebok, Portland, OR', 'Bose, New York, NY', 'Montblanc, Geneva, Switzerland', 'Skechers, Los Angeles, CA', 'Banana Republic, San Francisco, CA', 'Harley-Davidson, Milwaukee, WI', 'Belk, Charlotte, NC', 'Chanel, Paris, France', 'Swatch, Geneva, Switzerland', 'Fendi, Rome, Italy', 'La-Z-Boy, Monroe, MI', 'L.L. Bean, Freeport, ME', 'J. Crew, New York, NY', 'Vans, Anaheim, CA', 'Outdoor Voices, Austin, TX']\n",
    "\n",
    "    return random.choice(locations)"
   ]
  },
  {
   "cell_type": "code",
   "execution_count": 48,
   "id": "cdb68913-05f9-4567-ad0f-9fcfc5a73c12",
   "metadata": {},
   "outputs": [
    {
     "data": {
      "text/plain": [
       "<User: 6>"
      ]
     },
     "execution_count": 48,
     "metadata": {},
     "output_type": "execute_result"
    }
   ],
   "source": [
    "users = User.select()\n",
    "users\n",
    "random.choice(users)"
   ]
  },
  {
   "cell_type": "code",
   "execution_count": 61,
   "id": "772c8085-2955-412b-b427-e27fa6a90e82",
   "metadata": {},
   "outputs": [],
   "source": [
    "# Function to generate a random status\n",
    "# Create a list of transactions for Mark Schwartz (using random values)\n",
    "transactions_data = []\n",
    "user_ids = [user.id for user in User.select()]\n",
    "for _ in range(50):  # Generate 5 transactions for this user\n",
    "    userkey = random.choice(user_ids)\n",
    "    amount = generate_amount()\n",
    "    transaction_id = generate_transaction_id()\n",
    "    date = datetime.now() - timedelta(days=random.randint(0, 40), minutes=random.randint(0, 60), seconds=random.randint(0, 60))  # Random date within the last 40 days\n",
    "    merchant_location = generate_merchant_location()\n",
    "    status = generate_status()\n",
    "    transaction_type = generate_type()\n",
    "\n",
    "    transaction = Transaction.create(\n",
    "        userkey=userkey,  # Assign to Mark Schwartz\n",
    "        amount=amount,\n",
    "        transaction_id=transaction_id,\n",
    "        date=date,\n",
    "        merchant_location=merchant_location,\n",
    "        status=status,\n",
    "        type=transaction_type\n",
    "    )\n",
    "    transactions_data.append(transaction)\n",
    "  "
   ]
  },
  {
   "cell_type": "code",
   "execution_count": null,
   "id": "a39fdf6e-f9ea-48b7-91f6-4f2b28cc0d5e",
   "metadata": {},
   "outputs": [],
   "source": []
  }
 ],
 "metadata": {
  "kernelspec": {
   "display_name": "Python 3 (ipykernel)",
   "language": "python",
   "name": "python3"
  },
  "language_info": {
   "codemirror_mode": {
    "name": "ipython",
    "version": 3
   },
   "file_extension": ".py",
   "mimetype": "text/x-python",
   "name": "python",
   "nbconvert_exporter": "python",
   "pygments_lexer": "ipython3",
   "version": "3.12.6"
  }
 },
 "nbformat": 4,
 "nbformat_minor": 5
}
